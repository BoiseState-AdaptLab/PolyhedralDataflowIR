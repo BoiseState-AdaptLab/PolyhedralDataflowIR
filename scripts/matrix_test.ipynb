{
 "cells": [
  {
   "cell_type": "code",
   "execution_count": 19,
   "metadata": {},
   "outputs": [
    {
     "name": "stdout",
     "output_type": "stream",
     "text": [
      "(2100225,)\n",
      "3584\n",
      "[524800, 1537, 1537, 1537, 1537, 1537, 1537, 1537, 1537, 1537]\n",
      "2025\n"
     ]
    }
   ],
   "source": [
    "import numpy as np\n",
    "#import scipy.sparse as sp\n",
    "import scipy.io as io\n",
    "import matplotlib.pyplot as plt\n",
    "\n",
    "%matplotlib inline\n",
    "\n",
    "#mtx = '/home/edavis/Work/VarDevEddie/themes/matrices/cuda/ppcg/Pres_Poisson.mtx'\n",
    "#mtx = '/home/edavis/Work/VarDevEddie/themes/Solver/matrices/consph/consph.mtx'\n",
    "#mtx = '/home/edavis/Work/VarDevEddie/themes/Solver/matrices/cant/cant.mtx'\n",
    "#mtx = '/home/edavis/Work/VarDevEddie/themes/Solver/matrices/pwtk/pwtk.mtx'\n",
    "mtx = '/home/edavis/Work/VarDevEddie/themes/Solver/matrices/mc2depi/mc2depi.mtx'\n",
    "coo = io.mmread(mtx)\n",
    "hist = {}\n",
    "for val in coo.data:\n",
    "    if val not in hist:\n",
    "        hist[val] = 0\n",
    "    hist[val] += 1\n",
    "    \n",
    "rev_hist = dict([(val, key) for (key, val) in hist.items()])\n",
    "    \n",
    "print(coo.data.shape)\n",
    "print(len(hist))\n",
    "tops = sorted(hist.values(), reverse=True)[:10]\n",
    "print(tops)\n",
    "print(rev_hist[tops[0]])\n",
    "#_ = plt.hist(coo.data, bins='auto')  # arguments are passed to np.histogram\n",
    "#plt.title(\"Histogram with 'auto' bins\")\n",
    "#plt.show()"
   ]
  },
  {
   "cell_type": "code",
   "execution_count": 23,
   "metadata": {},
   "outputs": [
    {
     "name": "stdout",
     "output_type": "stream",
     "text": [
      "0\n",
      "2\n",
      "5\n",
      "8\n",
      "11\n",
      "14\n",
      "18\n",
      "21\n",
      "25\n",
      "28\n",
      "0\n",
      "2100225\n",
      "2100223\n",
      "2100220\n",
      "2100217\n",
      "2100214\n",
      "2100211\n",
      "2100207\n",
      "2100204\n",
      "2100200\n"
     ]
    }
   ],
   "source": [
    "import numpy as np\n",
    "#import scipy.sparse as sp\n",
    "import scipy.io as io\n",
    "import matplotlib.pyplot as plt\n",
    "\n",
    "%matplotlib inline\n",
    "\n",
    "#mtx = '/home/edavis/Work/VarDevEddie/themes/matrices/cuda/ppcg/Pres_Poisson.mtx'\n",
    "#mtx = '/home/edavis/Work/VarDevEddie/themes/Solver/matrices/consph/consph.mtx'\n",
    "#mtx = '/home/edavis/Work/VarDevEddie/themes/Solver/matrices/cant/cant.mtx'\n",
    "#mtx = '/home/edavis/Work/VarDevEddie/themes/Solver/matrices/pwtk/pwtk.mtx'\n",
    "mtx = '/home/edavis/Work/VarDevEddie/themes/Solver/matrices/mc2depi/mc2depi.mtx'\n",
    "coo = io.mmread(mtx)\n",
    "csr = coo.tocsr()\n",
    "for i in range(10):\n",
    "    print(csr.indptr[i])\n",
    "for i in range(10):\n",
    "    print(csr.indptr[-i])\n",
    "#csr.indptr"
   ]
  },
  {
   "cell_type": "code",
   "execution_count": null,
   "metadata": {},
   "outputs": [],
   "source": []
  }
 ],
 "metadata": {
  "kernelspec": {
   "display_name": "Python 3",
   "language": "python",
   "name": "python3"
  },
  "language_info": {
   "codemirror_mode": {
    "name": "ipython",
    "version": 3
   },
   "file_extension": ".py",
   "mimetype": "text/x-python",
   "name": "python",
   "nbconvert_exporter": "python",
   "pygments_lexer": "ipython3",
   "version": "3.7.3"
  }
 },
 "nbformat": 4,
 "nbformat_minor": 2
}
