{
 "cells": [
  {
   "cell_type": "code",
   "execution_count": 2,
   "metadata": {},
   "outputs": [
    {
     "ename": "ModuleNotFoundError",
     "evalue": "No module named 'plotly'",
     "output_type": "error",
     "traceback": [
      "\u001b[0;31m---------------------------------------------------------------------------\u001b[0m",
      "\u001b[0;31mModuleNotFoundError\u001b[0m                       Traceback (most recent call last)",
      "\u001b[0;32m<ipython-input-2-3aac487ac8be>\u001b[0m in \u001b[0;36m<module>\u001b[0;34m\u001b[0m\n\u001b[1;32m      1\u001b[0m \u001b[0;32mimport\u001b[0m \u001b[0mpandas\u001b[0m \u001b[0;32mas\u001b[0m \u001b[0mpd\u001b[0m\u001b[0;34m\u001b[0m\u001b[0;34m\u001b[0m\u001b[0m\n\u001b[0;32m----> 2\u001b[0;31m \u001b[0;32mimport\u001b[0m \u001b[0mplotly\u001b[0m\u001b[0;34m.\u001b[0m\u001b[0moffline\u001b[0m \u001b[0;32mas\u001b[0m \u001b[0mpy\u001b[0m\u001b[0;34m\u001b[0m\u001b[0;34m\u001b[0m\u001b[0m\n\u001b[0m\u001b[1;32m      3\u001b[0m \u001b[0;32mimport\u001b[0m \u001b[0mplotly\u001b[0m\u001b[0;34m.\u001b[0m\u001b[0mgraph_objs\u001b[0m \u001b[0;32mas\u001b[0m \u001b[0mgo\u001b[0m\u001b[0;34m\u001b[0m\u001b[0;34m\u001b[0m\u001b[0m\n\u001b[1;32m      4\u001b[0m \u001b[0;34m\u001b[0m\u001b[0m\n\u001b[1;32m      5\u001b[0m \u001b[0mget_ipython\u001b[0m\u001b[0;34m(\u001b[0m\u001b[0;34m)\u001b[0m\u001b[0;34m.\u001b[0m\u001b[0mrun_line_magic\u001b[0m\u001b[0;34m(\u001b[0m\u001b[0;34m'matplotlib'\u001b[0m\u001b[0;34m,\u001b[0m \u001b[0;34m'inline'\u001b[0m\u001b[0;34m)\u001b[0m\u001b[0;34m\u001b[0m\u001b[0;34m\u001b[0m\u001b[0m\n",
      "\u001b[0;31mModuleNotFoundError\u001b[0m: No module named 'plotly'"
     ]
    }
   ],
   "source": [
    "import pandas as pd\n",
    "import plotly.offline as py\n",
    "import plotly.graph_objs as go\n",
    "\n",
    "%matplotlib inline\n",
    "\n",
    "py.init_notebook_mode(connected=True)\n",
    "\n",
    "df = pd.read_csv('/home/edavis/Work/VarDevEddie/scripts/data/sparse-matrix-filter.csv')\n",
    "\n",
    "formats = df['dstfmt'].unique()\n",
    "nproc = 4\n",
    "sub = df.loc[df['nproc'] == nproc]\n",
    "colors = ['rgb(31, 119, 180)', 'rgb(255, 127, 14)',\n",
    "        'rgb(44, 160, 44)', 'rgb(214, 39, 40)',\n",
    "        'rgb(148, 103, 189)', 'rgb(140, 86, 75)',\n",
    "        'rgb(227, 119, 194)', 'rgb(127, 127, 127)',\n",
    "        'rgb(188, 189, 34)', 'rgb(23, 190, 207)']\n",
    "\n",
    "font = {'name': 'Arial', 'color': 'black', 'size': 24}\n",
    "xcol = 'mtx'\n",
    "ycol = 'inspiters' #'speedup'\n",
    "xtitle = 'Sparse Matrices'\n",
    "ytitle = 'Inspector Iterations' #'Speedup vs. COO'\n",
    "\n",
    "data = []\n",
    "for j in range(len(formats)):\n",
    "    fmt = formats[j]\n",
    "    ser = sub.loc[sub['dstfmt'] == fmt]\n",
    "\n",
    "    # Create a trace\n",
    "    trace = go.Bar(\n",
    "        x=ser[xcol],\n",
    "        y=ser[ycol],\n",
    "        name=fmt,\n",
    "        marker=dict(\n",
    "            color=colors[j]\n",
    "        ),\n",
    "    )\n",
    "\n",
    "    data.append(trace)\n",
    "\n",
    "layout = go.Layout(\n",
    "    xaxis=dict(tickangle=-45,\n",
    "               title=xtitle),\n",
    "    yaxis=dict(range=[0,250],\n",
    "               title=ytitle),\n",
    "    titlefont=dict(family=font['name'],\n",
    "                   size=font['size'])\n",
    ")\n",
    "\n",
    "fig = go.Figure(data=data, layout=layout)\n",
    "py.iplot(fig, filename='spmv_execs')\n"
   ]
  },
  {
   "cell_type": "code",
   "execution_count": 6,
   "metadata": {},
   "outputs": [
    {
     "data": {
      "text/html": [
       "<script type=\"text/javascript\">window.PlotlyConfig = {MathJaxConfig: 'local'};</script><script type=\"text/javascript\">if (window.MathJax) {MathJax.Hub.Config({SVG: {font: \"STIX-Web\"}});}</script><script>requirejs.config({paths: { 'plotly': ['https://cdn.plot.ly/plotly-latest.min']},});if(!window._Plotly) {require(['plotly'],function(plotly) {window._Plotly=plotly;});}</script>"
      ]
     },
     "metadata": {},
     "output_type": "execute_result"
    },
    {
     "data": {
      "text/html": [
       "<div id=\"3aaf02c5-4fe3-49bd-b6bb-177cda91b696\" style=\"height: 525px; width: 100%;\" class=\"plotly-graph-div\"></div><script type=\"text/javascript\">require([\"plotly\"], function(Plotly) { window.PLOTLYENV=window.PLOTLYENV || {};window.PLOTLYENV.BASE_URL=\"https://plot.ly\";Plotly.newPlot(\"3aaf02c5-4fe3-49bd-b6bb-177cda91b696\", [{\"marker\": {\"color\": \"rgb(31, 119, 180)\"}, \"name\": \"COO\", \"x\": [\"crime\", \"nell2\", \"nips\"], \"y\": [8.429738963, 8.400296002000001, 8.424529703], \"type\": \"bar\", \"uid\": \"8e214249-be61-482e-b693-a8aa9c1cca0e\"}, {\"marker\": {\"color\": \"rgb(255, 127, 14)\"}, \"name\": \"CSF\", \"x\": [\"crime\", \"nell2\", \"nips\"], \"y\": [8.474818939, 8.366262297999999, 8.666317409], \"type\": \"bar\", \"uid\": \"f4eec01c-4486-440a-ab04-ee7a64e758b9\"}, {\"marker\": {\"color\": \"rgb(44, 160, 44)\"}, \"name\": \"HiCOO\", \"x\": [\"crime\", \"nell2\", \"nips\"], \"y\": [7.816023541, 6.087466406, 8.340558358], \"type\": \"bar\", \"uid\": \"18c4faad-248d-4ab7-aab8-aa754bd3f486\"}], {\"title\": {\"font\": {\"family\": \"Arial\", \"size\": 24}}, \"xaxis\": {\"tickangle\": -45, \"title\": {\"text\": \"Sparse Tensors\"}}, \"yaxis\": {\"title\": {\"text\": \"Speedup vs. Serial\"}}}, {\"showLink\": false, \"linkText\": \"Export to plot.ly\", \"plotlyServerURL\": \"https://plot.ly\"})});</script><script type=\"text/javascript\">window.addEventListener(\"resize\", function(){window._Plotly.Plots.resize(document.getElementById(\"3aaf02c5-4fe3-49bd-b6bb-177cda91b696\"));});</script>"
      ]
     },
     "metadata": {},
     "output_type": "execute_result"
    }
   ],
   "source": [
    "import pandas as pd\n",
    "import plotly.offline as py\n",
    "import plotly.graph_objs as go\n",
    "\n",
    "%matplotlib inline\n",
    "\n",
    "py.init_notebook_mode(connected=True)\n",
    "\n",
    "df = pd.read_csv('/home/edavis/Work/VarDevEddie/scripts/data/poster_data.csv')\n",
    "\n",
    "formats = df['Format'].unique()\n",
    "nproc = 16\n",
    "sub = df.loc[df['nThreads'] == nproc]\n",
    "colors = ['rgb(31, 119, 180)', 'rgb(255, 127, 14)',\n",
    "        'rgb(44, 160, 44)', 'rgb(214, 39, 40)',\n",
    "        'rgb(148, 103, 189)', 'rgb(140, 86, 75)',\n",
    "        'rgb(227, 119, 194)', 'rgb(127, 127, 127)',\n",
    "        'rgb(188, 189, 34)', 'rgb(23, 190, 207)']\n",
    "\n",
    "font = {'name': 'Arial', 'color': 'black', 'size': 24}\n",
    "xcol = 'Tensor'\n",
    "ycol = 'Speedup'\n",
    "xtitle = 'Sparse Tensors'\n",
    "ytitle = 'Speedup vs. Serial'\n",
    "\n",
    "data = []\n",
    "for j in range(len(formats)):\n",
    "    fmt = formats[j]\n",
    "    ser = sub.loc[sub['Format'] == fmt]\n",
    "\n",
    "    # Create a trace\n",
    "    trace = go.Bar(\n",
    "        x=ser[xcol],\n",
    "        y=ser[ycol],\n",
    "        name=fmt,\n",
    "        marker=dict(\n",
    "            color=colors[j]\n",
    "        ),\n",
    "    )\n",
    "\n",
    "    data.append(trace)\n",
    "\n",
    "layout = go.Layout(\n",
    "    xaxis=dict(tickangle=-45,\n",
    "               title=xtitle),\n",
    "    yaxis=dict(#range=[0,250],\n",
    "               title=ytitle),\n",
    "    titlefont=dict(family=font['name'],\n",
    "                   size=font['size'])\n",
    ")\n",
    "\n",
    "fig = go.Figure(data=data, layout=layout)\n",
    "py.iplot(fig, filename='mttkrp_execs')\n"
   ]
  },
  {
   "cell_type": "code",
   "execution_count": 2,
   "metadata": {},
   "outputs": [
    {
     "data": {
      "text/html": [
       "<script type=\"text/javascript\">window.PlotlyConfig = {MathJaxConfig: 'local'};</script><script type=\"text/javascript\">if (window.MathJax) {MathJax.Hub.Config({SVG: {font: \"STIX-Web\"}});}</script><script>requirejs.config({paths: { 'plotly': ['https://cdn.plot.ly/plotly-latest.min']},});if(!window._Plotly) {require(['plotly'],function(plotly) {window._Plotly=plotly;});}</script>"
      ]
     },
     "metadata": {},
     "output_type": "execute_result"
    },
    {
     "data": {
      "text/html": [
       "<div id=\"50312a33-4a9c-4e7a-a631-00f4768483da\" style=\"height: 525px; width: 100%;\" class=\"plotly-graph-div\"></div><script type=\"text/javascript\">require([\"plotly\"], function(Plotly) { window.PLOTLYENV=window.PLOTLYENV || {};window.PLOTLYENV.BASE_URL=\"https://plot.ly\";Plotly.newPlot(\"50312a33-4a9c-4e7a-a631-00f4768483da\", [{\"line\": {\"color\": \"red\", \"width\": 6}, \"marker\": {\"size\": 24, \"symbol\": \"diamond\"}, \"mode\": \"lines+markers\", \"name\": \"COO\", \"x\": [1, 2, 4, 8, 16, 24], \"y\": [1.0, 1.928736821, 3.158968662, 6.996140722000001, 8.418188222000001, 8.568477114], \"type\": \"scatter\", \"uid\": \"edd71af7-2ed4-4407-8aa2-3fa6432570f6\"}, {\"line\": {\"color\": \"green\", \"width\": 6}, \"marker\": {\"size\": 24, \"symbol\": \"square\"}, \"mode\": \"lines+markers\", \"name\": \"CSF\", \"x\": [1, 2, 4, 8, 16, 24], \"y\": [1.0, 1.9295838680000001, 3.67119816, 7.034126431000001, 8.502466215, 8.690299055], \"type\": \"scatter\", \"uid\": \"c2295fdf-c4d6-4b74-9a77-bb46e45f19a8\"}, {\"line\": {\"color\": \"blue\", \"width\": 6}, \"marker\": {\"size\": 24, \"symbol\": \"circle\"}, \"mode\": \"lines+markers\", \"name\": \"HiCOO\", \"x\": [1, 2, 4, 8, 16, 24], \"y\": [1.0, 1.91173273, 3.5954948030000002, 6.601864513, 7.414682768, 7.391916473999999], \"type\": \"scatter\", \"uid\": \"96d1bc95-be8f-4af6-8e67-efcd3e922479\"}], {\"font\": {\"color\": \"black\", \"family\": \"Arial\", \"size\": 24}, \"title\": {\"text\": \"\"}, \"xaxis\": {\"autorange\": true, \"dtick\": 4, \"title\": {\"text\": \"# Threads\"}}, \"yaxis\": {\"autorange\": true, \"dtick\": 2, \"tickfont\": {\"family\": \"Arial\", \"size\": 24}, \"tickprefix\": \"   \", \"title\": {\"text\": \"Speedup\", \"font\": {\"family\": \"Arial\", \"size\": 24}}}}, {\"showLink\": false, \"linkText\": \"Export to plot.ly\", \"plotlyServerURL\": \"https://plot.ly\"})});</script><script type=\"text/javascript\">window.addEventListener(\"resize\", function(){window._Plotly.Plots.resize(document.getElementById(\"50312a33-4a9c-4e7a-a631-00f4768483da\"));});</script>"
      ]
     },
     "metadata": {},
     "output_type": "execute_result"
    }
   ],
   "source": [
    "import pandas as pd\n",
    "import plotly.offline as py\n",
    "import plotly.graph_objs as go\n",
    "\n",
    "%matplotlib inline\n",
    "\n",
    "py.init_notebook_mode(connected=True)\n",
    "\n",
    "df = pd.read_csv('/home/edavis/Work/VarDevEddie/scripts/data/poster_data.csv')\n",
    "\n",
    "nthreads = df['nThreads'].unique()\n",
    "formats = df['Format'].unique()\n",
    "tensor = 'avg'\n",
    "sub = df.loc[df['Tensor'] == tensor]\n",
    "symbols = ['diamond', 'square', 'circle']\n",
    "colors = ['red', 'green', 'blue']\n",
    "xcol = 'nThreads'\n",
    "ycol = 'Speedup'\n",
    "msize = 24\n",
    "lsize = 6\n",
    "fname = 'Arial'\n",
    "fcolor = 'black'\n",
    "fsize = 24\n",
    "dashes = ''\n",
    "\n",
    "data = []\n",
    "for j in range(len(formats)):\n",
    "    ser = sub.loc[sub['Format'] == formats[j]]\n",
    "\n",
    "    # Create a trace\n",
    "    trace = go.Scatter(\n",
    "        x=ser[xcol],\n",
    "        y=ser[ycol],\n",
    "        name=formats[j],\n",
    "        marker=dict(\n",
    "            symbol=symbols[j],\n",
    "            size=msize\n",
    "        ),\n",
    "        mode='lines+markers',\n",
    "        line=dict(\n",
    "            color=colors[j],\n",
    "            width=lsize,\n",
    "            #dash=dashes\n",
    "        )\n",
    "    )\n",
    "\n",
    "    data.append(trace)\n",
    "\n",
    "legendpos = (0.6, 1.0)\n",
    "\n",
    "# Edit the layout\n",
    "layout = dict(\n",
    "    font=dict(family=fname, size=fsize, color=fcolor),\n",
    "    title='', #'Thread Scalability',\n",
    "    #legend=dict(x=legendpos[0], y=legendpos[1]),\n",
    "    #margin=go.Margin(l=100),\n",
    "    xaxis=dict(\n",
    "        title='# Threads',\n",
    "        #type='log',\n",
    "        autorange=True,\n",
    "        #range=[3, 30],\n",
    "        dtick=4\n",
    "    ),\n",
    "    yaxis=dict(\n",
    "        title='Speedup',\n",
    "        #title='Time Reduction (s)',\n",
    "        #type='log',\n",
    "        autorange=True,\n",
    "        dtick=2,\n",
    "        #range=[-0.8,0.8],\n",
    "        #range=[0, 0.5],\n",
    "        tickprefix='   ',\n",
    "        tickfont=dict(\n",
    "            family=fname,\n",
    "            size=fsize),\n",
    "        titlefont=dict(\n",
    "            family=fname,\n",
    "            size=fsize)\n",
    "    )\n",
    ")\n",
    "\n",
    "fig = go.Figure(data=data, layout=layout)\n",
    "py.iplot(fig, filename='tns_format_scale')"
   ]
  },
  {
   "cell_type": "code",
   "execution_count": null,
   "metadata": {
    "collapsed": true
   },
   "outputs": [],
   "source": []
  }
 ],
 "metadata": {
  "kernelspec": {
   "display_name": "Python 3",
   "language": "python",
   "name": "python3"
  },
  "language_info": {
   "codemirror_mode": {
    "name": "ipython",
    "version": 3
   },
   "file_extension": ".py",
   "mimetype": "text/x-python",
   "name": "python",
   "nbconvert_exporter": "python",
   "pygments_lexer": "ipython3",
   "version": "3.7.3"
  }
 },
 "nbformat": 4,
 "nbformat_minor": 2
}
